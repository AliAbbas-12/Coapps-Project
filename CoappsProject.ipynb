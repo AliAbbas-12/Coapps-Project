{
  "nbformat": 4,
  "nbformat_minor": 0,
  "metadata": {
    "colab": {
      "provenance": [],
      "collapsed_sections": [
        "uoXwHgWG2hKB",
        "4hv5xpmw24M6",
        "N_YgbYXF3ISn",
        "khBF0PJUpmZQ",
        "n3BsmWkNmybo",
        "Rg5_-Kn6PbXX",
        "x7bClYZgQh_n",
        "Ha43pnySkP8C"
      ]
    },
    "kernelspec": {
      "name": "python3",
      "display_name": "Python 3"
    },
    "language_info": {
      "name": "python"
    }
  },
  "cells": [
    {
      "cell_type": "markdown",
      "source": [
        "# **Predictive Analysis for Accident Prevention and Response**"
      ],
      "metadata": {
        "id": "uoXwHgWG2hKB"
      }
    },
    {
      "cell_type": "code",
      "execution_count": 38,
      "metadata": {
        "id": "4cf4886e",
        "outputId": "6f41fee3-4ffc-4589-e819-5e94fa612844",
        "colab": {
          "base_uri": "https://localhost:8080/"
        }
      },
      "outputs": [
        {
          "output_type": "stream",
          "name": "stdout",
          "text": [
            "Requirement already satisfied: scikit-learn in /usr/local/lib/python3.10/dist-packages (1.2.2)\n",
            "Requirement already satisfied: numpy>=1.17.3 in /usr/local/lib/python3.10/dist-packages (from scikit-learn) (1.25.2)\n",
            "Requirement already satisfied: scipy>=1.3.2 in /usr/local/lib/python3.10/dist-packages (from scikit-learn) (1.11.4)\n",
            "Requirement already satisfied: joblib>=1.1.1 in /usr/local/lib/python3.10/dist-packages (from scikit-learn) (1.4.0)\n",
            "Requirement already satisfied: threadpoolctl>=2.0.0 in /usr/local/lib/python3.10/dist-packages (from scikit-learn) (3.4.0)\n"
          ]
        }
      ],
      "source": [
        "! pip install scikit-learn"
      ]
    },
    {
      "cell_type": "markdown",
      "source": [
        "# **Importing Libraries**"
      ],
      "metadata": {
        "id": "4hv5xpmw24M6"
      }
    },
    {
      "cell_type": "code",
      "source": [
        "import pandas as pd\n",
        "import matplotlib.pyplot as plt\n",
        "import numpy as np\n",
        "import sklearn"
      ],
      "metadata": {
        "id": "8opqNkzWkLGJ"
      },
      "execution_count": 39,
      "outputs": []
    },
    {
      "cell_type": "markdown",
      "source": [
        "# **Importing CSV file as DataFrame**"
      ],
      "metadata": {
        "id": "N_YgbYXF3ISn"
      }
    },
    {
      "cell_type": "code",
      "source": [
        "df = pd.read_csv(\"FINALCoappsProject.csv\")\n",
        "X = df.iloc[:,1:15]\n",
        "y = df.iloc[:,15]"
      ],
      "metadata": {
        "id": "16xB-Ca_kcuZ"
      },
      "execution_count": 40,
      "outputs": []
    },
    {
      "cell_type": "code",
      "source": [
        "print(X)"
      ],
      "metadata": {
        "colab": {
          "base_uri": "https://localhost:8080/"
        },
        "id": "XMGRiCfArbBt",
        "outputId": "df77a33e-f34c-47ee-ec40-7962c64731ad"
      },
      "execution_count": 41,
      "outputs": [
        {
          "output_type": "stream",
          "name": "stdout",
          "text": [
            "    Day_of_week Age_band_of_driver Sex_of_driver Driving_experience  \\\n",
            "0        Monday              18-30          Male              1-2yr   \n",
            "1        Monday              31-50          Male         Above 10yr   \n",
            "2        Monday              18-30          Male              1-2yr   \n",
            "3        Sunday              18-30          Male             5-10yr   \n",
            "4        Sunday              18-30          Male              2-5yr   \n",
            "..          ...                ...           ...                ...   \n",
            "519   Wednesday              18-30          Male         No Licence   \n",
            "520      Friday            Over 51          Male         Above 10yr   \n",
            "521      Friday              31-50          Male         Above 10yr   \n",
            "522      Friday              31-50          Male             5-10yr   \n",
            "523    Thursday              31-50          Male              2-5yr   \n",
            "\n",
            "    Type_of_vehicle Area_accident_occured Types_of_Junction Road_surface_type  \\\n",
            "0               Car     Residential areas       No junction     Asphalt roads   \n",
            "1           Public           Office areas       No junction     Asphalt roads   \n",
            "2             Lorry    Recreational areas       No junction     Asphalt roads   \n",
            "3              Auto          Office areas           Y Shape       Earth roads   \n",
            "4               NaN      Industrial areas           Y Shape     Asphalt roads   \n",
            "..              ...                   ...               ...               ...   \n",
            "519           Wagen          Office areas          Crossing     Asphalt roads   \n",
            "520             Car          School areas           Y Shape     Asphalt roads   \n",
            "521             Van          School areas           Y Shape     Asphalt roads   \n",
            "522             Car          School areas           Y Shape     Asphalt roads   \n",
            "523             Car     Residential areas           Y Shape     Asphalt roads   \n",
            "\n",
            "    Light_conditions Weather_conditions                Type_of_collision  \\\n",
            "0           Daylight             Normal         Roadside-parked vehicles   \n",
            "1           Daylight             Normal   Vehicle with vehicle collision   \n",
            "2           Daylight             Normal  Collision with roadside objects   \n",
            "3       Street Light             Normal   Vehicle with vehicle collision   \n",
            "4       Street Light             Normal   Vehicle with vehicle collision   \n",
            "..               ...                ...                              ...   \n",
            "519         Daylight             Normal       Collision with pedestrians   \n",
            "520         Daylight             Normal   Vehicle with vehicle collision   \n",
            "521         Daylight             Normal       Collision with pedestrians   \n",
            "522         Daylight             Normal   Vehicle with vehicle collision   \n",
            "523         Daylight             Normal   Vehicle with vehicle collision   \n",
            "\n",
            "     Number_of_vehicles_involved  Number_of_casualties Accident_severity  \n",
            "0                              2                     2     Slight Injury  \n",
            "1                              2                     2     Slight Injury  \n",
            "2                              2                     2    Serious Injury  \n",
            "3                              2                     2     Slight Injury  \n",
            "4                              2                     2     Slight Injury  \n",
            "..                           ...                   ...               ...  \n",
            "519                            2                     2     Slight Injury  \n",
            "520                            2                     2     Slight Injury  \n",
            "521                            2                     2     Slight Injury  \n",
            "522                            2                     2     Slight Injury  \n",
            "523                            2                     1      Fatal injury  \n",
            "\n",
            "[524 rows x 14 columns]\n"
          ]
        }
      ]
    },
    {
      "cell_type": "code",
      "source": [
        "print(y)"
      ],
      "metadata": {
        "colab": {
          "base_uri": "https://localhost:8080/"
        },
        "id": "vhPtI7vrrg-_",
        "outputId": "49df6f16-adf1-4cb2-be24-90492908a46c"
      },
      "execution_count": 42,
      "outputs": [
        {
          "output_type": "stream",
          "name": "stdout",
          "text": [
            "0         Low Response\n",
            "1         Low Response\n",
            "2         Low Response\n",
            "3         Low Response\n",
            "4         Low Response\n",
            "            ...       \n",
            "519    Medium Response\n",
            "520    Medium Response\n",
            "521    Medium Response\n",
            "522    Medium Response\n",
            "523       Low Response\n",
            "Name: Safety Response, Length: 524, dtype: object\n"
          ]
        }
      ]
    },
    {
      "cell_type": "code",
      "source": [
        "df.head()"
      ],
      "metadata": {
        "colab": {
          "base_uri": "https://localhost:8080/",
          "height": 330
        },
        "id": "ghuwyO_fqtFa",
        "outputId": "93edd43e-0e96-42a2-ec8f-fd1205eed76e"
      },
      "execution_count": 43,
      "outputs": [
        {
          "output_type": "execute_result",
          "data": {
            "text/plain": [
              "       Time Day_of_week Age_band_of_driver Sex_of_driver Driving_experience  \\\n",
              "0  17:02:00      Monday              18-30          Male              1-2yr   \n",
              "1  17:02:00      Monday              31-50          Male         Above 10yr   \n",
              "2  17:02:00      Monday              18-30          Male              1-2yr   \n",
              "3   1:06:00      Sunday              18-30          Male             5-10yr   \n",
              "4   1:06:00      Sunday              18-30          Male              2-5yr   \n",
              "\n",
              "  Type_of_vehicle Area_accident_occured Types_of_Junction Road_surface_type  \\\n",
              "0             Car     Residential areas       No junction     Asphalt roads   \n",
              "1         Public           Office areas       No junction     Asphalt roads   \n",
              "2           Lorry    Recreational areas       No junction     Asphalt roads   \n",
              "3            Auto          Office areas           Y Shape       Earth roads   \n",
              "4             NaN      Industrial areas           Y Shape     Asphalt roads   \n",
              "\n",
              "  Light_conditions Weather_conditions                Type_of_collision  \\\n",
              "0         Daylight             Normal         Roadside-parked vehicles   \n",
              "1         Daylight             Normal   Vehicle with vehicle collision   \n",
              "2         Daylight             Normal  Collision with roadside objects   \n",
              "3     Street Light             Normal   Vehicle with vehicle collision   \n",
              "4     Street Light             Normal   Vehicle with vehicle collision   \n",
              "\n",
              "   Number_of_vehicles_involved  Number_of_casualties Accident_severity  \\\n",
              "0                            2                     2     Slight Injury   \n",
              "1                            2                     2     Slight Injury   \n",
              "2                            2                     2    Serious Injury   \n",
              "3                            2                     2     Slight Injury   \n",
              "4                            2                     2     Slight Injury   \n",
              "\n",
              "  Safety Response  \n",
              "0    Low Response  \n",
              "1    Low Response  \n",
              "2    Low Response  \n",
              "3    Low Response  \n",
              "4    Low Response  "
            ],
            "text/html": [
              "\n",
              "  <div id=\"df-1b3a43cd-2a95-4da7-a84a-934cf05f1702\" class=\"colab-df-container\">\n",
              "    <div>\n",
              "<style scoped>\n",
              "    .dataframe tbody tr th:only-of-type {\n",
              "        vertical-align: middle;\n",
              "    }\n",
              "\n",
              "    .dataframe tbody tr th {\n",
              "        vertical-align: top;\n",
              "    }\n",
              "\n",
              "    .dataframe thead th {\n",
              "        text-align: right;\n",
              "    }\n",
              "</style>\n",
              "<table border=\"1\" class=\"dataframe\">\n",
              "  <thead>\n",
              "    <tr style=\"text-align: right;\">\n",
              "      <th></th>\n",
              "      <th>Time</th>\n",
              "      <th>Day_of_week</th>\n",
              "      <th>Age_band_of_driver</th>\n",
              "      <th>Sex_of_driver</th>\n",
              "      <th>Driving_experience</th>\n",
              "      <th>Type_of_vehicle</th>\n",
              "      <th>Area_accident_occured</th>\n",
              "      <th>Types_of_Junction</th>\n",
              "      <th>Road_surface_type</th>\n",
              "      <th>Light_conditions</th>\n",
              "      <th>Weather_conditions</th>\n",
              "      <th>Type_of_collision</th>\n",
              "      <th>Number_of_vehicles_involved</th>\n",
              "      <th>Number_of_casualties</th>\n",
              "      <th>Accident_severity</th>\n",
              "      <th>Safety Response</th>\n",
              "    </tr>\n",
              "  </thead>\n",
              "  <tbody>\n",
              "    <tr>\n",
              "      <th>0</th>\n",
              "      <td>17:02:00</td>\n",
              "      <td>Monday</td>\n",
              "      <td>18-30</td>\n",
              "      <td>Male</td>\n",
              "      <td>1-2yr</td>\n",
              "      <td>Car</td>\n",
              "      <td>Residential areas</td>\n",
              "      <td>No junction</td>\n",
              "      <td>Asphalt roads</td>\n",
              "      <td>Daylight</td>\n",
              "      <td>Normal</td>\n",
              "      <td>Roadside-parked vehicles</td>\n",
              "      <td>2</td>\n",
              "      <td>2</td>\n",
              "      <td>Slight Injury</td>\n",
              "      <td>Low Response</td>\n",
              "    </tr>\n",
              "    <tr>\n",
              "      <th>1</th>\n",
              "      <td>17:02:00</td>\n",
              "      <td>Monday</td>\n",
              "      <td>31-50</td>\n",
              "      <td>Male</td>\n",
              "      <td>Above 10yr</td>\n",
              "      <td>Public</td>\n",
              "      <td>Office areas</td>\n",
              "      <td>No junction</td>\n",
              "      <td>Asphalt roads</td>\n",
              "      <td>Daylight</td>\n",
              "      <td>Normal</td>\n",
              "      <td>Vehicle with vehicle collision</td>\n",
              "      <td>2</td>\n",
              "      <td>2</td>\n",
              "      <td>Slight Injury</td>\n",
              "      <td>Low Response</td>\n",
              "    </tr>\n",
              "    <tr>\n",
              "      <th>2</th>\n",
              "      <td>17:02:00</td>\n",
              "      <td>Monday</td>\n",
              "      <td>18-30</td>\n",
              "      <td>Male</td>\n",
              "      <td>1-2yr</td>\n",
              "      <td>Lorry</td>\n",
              "      <td>Recreational areas</td>\n",
              "      <td>No junction</td>\n",
              "      <td>Asphalt roads</td>\n",
              "      <td>Daylight</td>\n",
              "      <td>Normal</td>\n",
              "      <td>Collision with roadside objects</td>\n",
              "      <td>2</td>\n",
              "      <td>2</td>\n",
              "      <td>Serious Injury</td>\n",
              "      <td>Low Response</td>\n",
              "    </tr>\n",
              "    <tr>\n",
              "      <th>3</th>\n",
              "      <td>1:06:00</td>\n",
              "      <td>Sunday</td>\n",
              "      <td>18-30</td>\n",
              "      <td>Male</td>\n",
              "      <td>5-10yr</td>\n",
              "      <td>Auto</td>\n",
              "      <td>Office areas</td>\n",
              "      <td>Y Shape</td>\n",
              "      <td>Earth roads</td>\n",
              "      <td>Street Light</td>\n",
              "      <td>Normal</td>\n",
              "      <td>Vehicle with vehicle collision</td>\n",
              "      <td>2</td>\n",
              "      <td>2</td>\n",
              "      <td>Slight Injury</td>\n",
              "      <td>Low Response</td>\n",
              "    </tr>\n",
              "    <tr>\n",
              "      <th>4</th>\n",
              "      <td>1:06:00</td>\n",
              "      <td>Sunday</td>\n",
              "      <td>18-30</td>\n",
              "      <td>Male</td>\n",
              "      <td>2-5yr</td>\n",
              "      <td>NaN</td>\n",
              "      <td>Industrial areas</td>\n",
              "      <td>Y Shape</td>\n",
              "      <td>Asphalt roads</td>\n",
              "      <td>Street Light</td>\n",
              "      <td>Normal</td>\n",
              "      <td>Vehicle with vehicle collision</td>\n",
              "      <td>2</td>\n",
              "      <td>2</td>\n",
              "      <td>Slight Injury</td>\n",
              "      <td>Low Response</td>\n",
              "    </tr>\n",
              "  </tbody>\n",
              "</table>\n",
              "</div>\n",
              "    <div class=\"colab-df-buttons\">\n",
              "\n",
              "  <div class=\"colab-df-container\">\n",
              "    <button class=\"colab-df-convert\" onclick=\"convertToInteractive('df-1b3a43cd-2a95-4da7-a84a-934cf05f1702')\"\n",
              "            title=\"Convert this dataframe to an interactive table.\"\n",
              "            style=\"display:none;\">\n",
              "\n",
              "  <svg xmlns=\"http://www.w3.org/2000/svg\" height=\"24px\" viewBox=\"0 -960 960 960\">\n",
              "    <path d=\"M120-120v-720h720v720H120Zm60-500h600v-160H180v160Zm220 220h160v-160H400v160Zm0 220h160v-160H400v160ZM180-400h160v-160H180v160Zm440 0h160v-160H620v160ZM180-180h160v-160H180v160Zm440 0h160v-160H620v160Z\"/>\n",
              "  </svg>\n",
              "    </button>\n",
              "\n",
              "  <style>\n",
              "    .colab-df-container {\n",
              "      display:flex;\n",
              "      gap: 12px;\n",
              "    }\n",
              "\n",
              "    .colab-df-convert {\n",
              "      background-color: #E8F0FE;\n",
              "      border: none;\n",
              "      border-radius: 50%;\n",
              "      cursor: pointer;\n",
              "      display: none;\n",
              "      fill: #1967D2;\n",
              "      height: 32px;\n",
              "      padding: 0 0 0 0;\n",
              "      width: 32px;\n",
              "    }\n",
              "\n",
              "    .colab-df-convert:hover {\n",
              "      background-color: #E2EBFA;\n",
              "      box-shadow: 0px 1px 2px rgba(60, 64, 67, 0.3), 0px 1px 3px 1px rgba(60, 64, 67, 0.15);\n",
              "      fill: #174EA6;\n",
              "    }\n",
              "\n",
              "    .colab-df-buttons div {\n",
              "      margin-bottom: 4px;\n",
              "    }\n",
              "\n",
              "    [theme=dark] .colab-df-convert {\n",
              "      background-color: #3B4455;\n",
              "      fill: #D2E3FC;\n",
              "    }\n",
              "\n",
              "    [theme=dark] .colab-df-convert:hover {\n",
              "      background-color: #434B5C;\n",
              "      box-shadow: 0px 1px 3px 1px rgba(0, 0, 0, 0.15);\n",
              "      filter: drop-shadow(0px 1px 2px rgba(0, 0, 0, 0.3));\n",
              "      fill: #FFFFFF;\n",
              "    }\n",
              "  </style>\n",
              "\n",
              "    <script>\n",
              "      const buttonEl =\n",
              "        document.querySelector('#df-1b3a43cd-2a95-4da7-a84a-934cf05f1702 button.colab-df-convert');\n",
              "      buttonEl.style.display =\n",
              "        google.colab.kernel.accessAllowed ? 'block' : 'none';\n",
              "\n",
              "      async function convertToInteractive(key) {\n",
              "        const element = document.querySelector('#df-1b3a43cd-2a95-4da7-a84a-934cf05f1702');\n",
              "        const dataTable =\n",
              "          await google.colab.kernel.invokeFunction('convertToInteractive',\n",
              "                                                    [key], {});\n",
              "        if (!dataTable) return;\n",
              "\n",
              "        const docLinkHtml = 'Like what you see? Visit the ' +\n",
              "          '<a target=\"_blank\" href=https://colab.research.google.com/notebooks/data_table.ipynb>data table notebook</a>'\n",
              "          + ' to learn more about interactive tables.';\n",
              "        element.innerHTML = '';\n",
              "        dataTable['output_type'] = 'display_data';\n",
              "        await google.colab.output.renderOutput(dataTable, element);\n",
              "        const docLink = document.createElement('div');\n",
              "        docLink.innerHTML = docLinkHtml;\n",
              "        element.appendChild(docLink);\n",
              "      }\n",
              "    </script>\n",
              "  </div>\n",
              "\n",
              "\n",
              "<div id=\"df-daa3da9c-1faf-4fba-a80d-f166a00f234e\">\n",
              "  <button class=\"colab-df-quickchart\" onclick=\"quickchart('df-daa3da9c-1faf-4fba-a80d-f166a00f234e')\"\n",
              "            title=\"Suggest charts\"\n",
              "            style=\"display:none;\">\n",
              "\n",
              "<svg xmlns=\"http://www.w3.org/2000/svg\" height=\"24px\"viewBox=\"0 0 24 24\"\n",
              "     width=\"24px\">\n",
              "    <g>\n",
              "        <path d=\"M19 3H5c-1.1 0-2 .9-2 2v14c0 1.1.9 2 2 2h14c1.1 0 2-.9 2-2V5c0-1.1-.9-2-2-2zM9 17H7v-7h2v7zm4 0h-2V7h2v10zm4 0h-2v-4h2v4z\"/>\n",
              "    </g>\n",
              "</svg>\n",
              "  </button>\n",
              "\n",
              "<style>\n",
              "  .colab-df-quickchart {\n",
              "      --bg-color: #E8F0FE;\n",
              "      --fill-color: #1967D2;\n",
              "      --hover-bg-color: #E2EBFA;\n",
              "      --hover-fill-color: #174EA6;\n",
              "      --disabled-fill-color: #AAA;\n",
              "      --disabled-bg-color: #DDD;\n",
              "  }\n",
              "\n",
              "  [theme=dark] .colab-df-quickchart {\n",
              "      --bg-color: #3B4455;\n",
              "      --fill-color: #D2E3FC;\n",
              "      --hover-bg-color: #434B5C;\n",
              "      --hover-fill-color: #FFFFFF;\n",
              "      --disabled-bg-color: #3B4455;\n",
              "      --disabled-fill-color: #666;\n",
              "  }\n",
              "\n",
              "  .colab-df-quickchart {\n",
              "    background-color: var(--bg-color);\n",
              "    border: none;\n",
              "    border-radius: 50%;\n",
              "    cursor: pointer;\n",
              "    display: none;\n",
              "    fill: var(--fill-color);\n",
              "    height: 32px;\n",
              "    padding: 0;\n",
              "    width: 32px;\n",
              "  }\n",
              "\n",
              "  .colab-df-quickchart:hover {\n",
              "    background-color: var(--hover-bg-color);\n",
              "    box-shadow: 0 1px 2px rgba(60, 64, 67, 0.3), 0 1px 3px 1px rgba(60, 64, 67, 0.15);\n",
              "    fill: var(--button-hover-fill-color);\n",
              "  }\n",
              "\n",
              "  .colab-df-quickchart-complete:disabled,\n",
              "  .colab-df-quickchart-complete:disabled:hover {\n",
              "    background-color: var(--disabled-bg-color);\n",
              "    fill: var(--disabled-fill-color);\n",
              "    box-shadow: none;\n",
              "  }\n",
              "\n",
              "  .colab-df-spinner {\n",
              "    border: 2px solid var(--fill-color);\n",
              "    border-color: transparent;\n",
              "    border-bottom-color: var(--fill-color);\n",
              "    animation:\n",
              "      spin 1s steps(1) infinite;\n",
              "  }\n",
              "\n",
              "  @keyframes spin {\n",
              "    0% {\n",
              "      border-color: transparent;\n",
              "      border-bottom-color: var(--fill-color);\n",
              "      border-left-color: var(--fill-color);\n",
              "    }\n",
              "    20% {\n",
              "      border-color: transparent;\n",
              "      border-left-color: var(--fill-color);\n",
              "      border-top-color: var(--fill-color);\n",
              "    }\n",
              "    30% {\n",
              "      border-color: transparent;\n",
              "      border-left-color: var(--fill-color);\n",
              "      border-top-color: var(--fill-color);\n",
              "      border-right-color: var(--fill-color);\n",
              "    }\n",
              "    40% {\n",
              "      border-color: transparent;\n",
              "      border-right-color: var(--fill-color);\n",
              "      border-top-color: var(--fill-color);\n",
              "    }\n",
              "    60% {\n",
              "      border-color: transparent;\n",
              "      border-right-color: var(--fill-color);\n",
              "    }\n",
              "    80% {\n",
              "      border-color: transparent;\n",
              "      border-right-color: var(--fill-color);\n",
              "      border-bottom-color: var(--fill-color);\n",
              "    }\n",
              "    90% {\n",
              "      border-color: transparent;\n",
              "      border-bottom-color: var(--fill-color);\n",
              "    }\n",
              "  }\n",
              "</style>\n",
              "\n",
              "  <script>\n",
              "    async function quickchart(key) {\n",
              "      const quickchartButtonEl =\n",
              "        document.querySelector('#' + key + ' button');\n",
              "      quickchartButtonEl.disabled = true;  // To prevent multiple clicks.\n",
              "      quickchartButtonEl.classList.add('colab-df-spinner');\n",
              "      try {\n",
              "        const charts = await google.colab.kernel.invokeFunction(\n",
              "            'suggestCharts', [key], {});\n",
              "      } catch (error) {\n",
              "        console.error('Error during call to suggestCharts:', error);\n",
              "      }\n",
              "      quickchartButtonEl.classList.remove('colab-df-spinner');\n",
              "      quickchartButtonEl.classList.add('colab-df-quickchart-complete');\n",
              "    }\n",
              "    (() => {\n",
              "      let quickchartButtonEl =\n",
              "        document.querySelector('#df-daa3da9c-1faf-4fba-a80d-f166a00f234e button');\n",
              "      quickchartButtonEl.style.display =\n",
              "        google.colab.kernel.accessAllowed ? 'block' : 'none';\n",
              "    })();\n",
              "  </script>\n",
              "</div>\n",
              "\n",
              "    </div>\n",
              "  </div>\n"
            ],
            "application/vnd.google.colaboratory.intrinsic+json": {
              "type": "dataframe",
              "variable_name": "df",
              "summary": "{\n  \"name\": \"df\",\n  \"rows\": 524,\n  \"fields\": [\n    {\n      \"column\": \"Time\",\n      \"properties\": {\n        \"dtype\": \"object\",\n        \"num_unique_values\": 186,\n        \"samples\": [\n          \"12:55:00\",\n          \"12:44:00\",\n          \"20:16:00\"\n        ],\n        \"semantic_type\": \"\",\n        \"description\": \"\"\n      }\n    },\n    {\n      \"column\": \"Day_of_week\",\n      \"properties\": {\n        \"dtype\": \"category\",\n        \"num_unique_values\": 7,\n        \"samples\": [\n          \"Monday\",\n          \"Sunday\",\n          \"Thursday\"\n        ],\n        \"semantic_type\": \"\",\n        \"description\": \"\"\n      }\n    },\n    {\n      \"column\": \"Age_band_of_driver\",\n      \"properties\": {\n        \"dtype\": \"category\",\n        \"num_unique_values\": 4,\n        \"samples\": [\n          \"31-50\",\n          \"Over 51\",\n          \"18-30\"\n        ],\n        \"semantic_type\": \"\",\n        \"description\": \"\"\n      }\n    },\n    {\n      \"column\": \"Sex_of_driver\",\n      \"properties\": {\n        \"dtype\": \"category\",\n        \"num_unique_values\": 2,\n        \"samples\": [\n          \"Female\",\n          \"Male\"\n        ],\n        \"semantic_type\": \"\",\n        \"description\": \"\"\n      }\n    },\n    {\n      \"column\": \"Driving_experience\",\n      \"properties\": {\n        \"dtype\": \"category\",\n        \"num_unique_values\": 6,\n        \"samples\": [\n          \"1-2yr\",\n          \"Above 10yr\"\n        ],\n        \"semantic_type\": \"\",\n        \"description\": \"\"\n      }\n    },\n    {\n      \"column\": \"Type_of_vehicle\",\n      \"properties\": {\n        \"dtype\": \"category\",\n        \"num_unique_values\": 14,\n        \"samples\": [\n          \"Ridden horse\",\n          \"Scooter\"\n        ],\n        \"semantic_type\": \"\",\n        \"description\": \"\"\n      }\n    },\n    {\n      \"column\": \"Area_accident_occured\",\n      \"properties\": {\n        \"dtype\": \"category\",\n        \"num_unique_values\": 10,\n        \"samples\": [\n          \"Hospital areas\",\n          \"Office areas\"\n        ],\n        \"semantic_type\": \"\",\n        \"description\": \"\"\n      }\n    },\n    {\n      \"column\": \"Types_of_Junction\",\n      \"properties\": {\n        \"dtype\": \"category\",\n        \"num_unique_values\": 4,\n        \"samples\": [\n          \"Y Shape\",\n          \"O Shape\"\n        ],\n        \"semantic_type\": \"\",\n        \"description\": \"\"\n      }\n    },\n    {\n      \"column\": \"Road_surface_type\",\n      \"properties\": {\n        \"dtype\": \"category\",\n        \"num_unique_values\": 3,\n        \"samples\": [\n          \"Asphalt roads\",\n          \"Earth roads\"\n        ],\n        \"semantic_type\": \"\",\n        \"description\": \"\"\n      }\n    },\n    {\n      \"column\": \"Light_conditions\",\n      \"properties\": {\n        \"dtype\": \"category\",\n        \"num_unique_values\": 4,\n        \"samples\": [\n          \"Street Light\",\n          \"Darkness - lights unlit\"\n        ],\n        \"semantic_type\": \"\",\n        \"description\": \"\"\n      }\n    },\n    {\n      \"column\": \"Weather_conditions\",\n      \"properties\": {\n        \"dtype\": \"category\",\n        \"num_unique_values\": 6,\n        \"samples\": [\n          \"Normal\",\n          \"Raining\"\n        ],\n        \"semantic_type\": \"\",\n        \"description\": \"\"\n      }\n    },\n    {\n      \"column\": \"Type_of_collision\",\n      \"properties\": {\n        \"dtype\": \"category\",\n        \"num_unique_values\": 8,\n        \"samples\": [\n          \"Vehicle with vehicle collision\",\n          \"Fall from vehicles\"\n        ],\n        \"semantic_type\": \"\",\n        \"description\": \"\"\n      }\n    },\n    {\n      \"column\": \"Number_of_vehicles_involved\",\n      \"properties\": {\n        \"dtype\": \"number\",\n        \"std\": 0,\n        \"min\": 1,\n        \"max\": 6,\n        \"num_unique_values\": 5,\n        \"samples\": [\n          1,\n          4\n        ],\n        \"semantic_type\": \"\",\n        \"description\": \"\"\n      }\n    },\n    {\n      \"column\": \"Number_of_casualties\",\n      \"properties\": {\n        \"dtype\": \"number\",\n        \"std\": 1,\n        \"min\": 1,\n        \"max\": 6,\n        \"num_unique_values\": 6,\n        \"samples\": [\n          2,\n          1\n        ],\n        \"semantic_type\": \"\",\n        \"description\": \"\"\n      }\n    },\n    {\n      \"column\": \"Accident_severity\",\n      \"properties\": {\n        \"dtype\": \"category\",\n        \"num_unique_values\": 4,\n        \"samples\": [\n          \"Serious Injury\",\n          \"Fatal Injury\"\n        ],\n        \"semantic_type\": \"\",\n        \"description\": \"\"\n      }\n    },\n    {\n      \"column\": \"Safety Response\",\n      \"properties\": {\n        \"dtype\": \"category\",\n        \"num_unique_values\": 3,\n        \"samples\": [\n          \"Low Response\",\n          \"High Response\"\n        ],\n        \"semantic_type\": \"\",\n        \"description\": \"\"\n      }\n    }\n  ]\n}"
            }
          },
          "metadata": {},
          "execution_count": 43
        }
      ]
    },
    {
      "cell_type": "code",
      "source": [
        "df.describe()"
      ],
      "metadata": {
        "colab": {
          "base_uri": "https://localhost:8080/",
          "height": 300
        },
        "id": "GOtL2PIYlLFY",
        "outputId": "1906dc42-c9e7-474a-ab12-9435786a3389"
      },
      "execution_count": 44,
      "outputs": [
        {
          "output_type": "execute_result",
          "data": {
            "text/plain": [
              "       Number_of_vehicles_involved  Number_of_casualties\n",
              "count                   524.000000            524.000000\n",
              "mean                      2.114504              1.717557\n",
              "std                       0.824029              1.123535\n",
              "min                       1.000000              1.000000\n",
              "25%                       2.000000              1.000000\n",
              "50%                       2.000000              1.000000\n",
              "75%                       2.000000              2.000000\n",
              "max                       6.000000              6.000000"
            ],
            "text/html": [
              "\n",
              "  <div id=\"df-bceed27c-b25a-48d9-a965-0b6ae5439d63\" class=\"colab-df-container\">\n",
              "    <div>\n",
              "<style scoped>\n",
              "    .dataframe tbody tr th:only-of-type {\n",
              "        vertical-align: middle;\n",
              "    }\n",
              "\n",
              "    .dataframe tbody tr th {\n",
              "        vertical-align: top;\n",
              "    }\n",
              "\n",
              "    .dataframe thead th {\n",
              "        text-align: right;\n",
              "    }\n",
              "</style>\n",
              "<table border=\"1\" class=\"dataframe\">\n",
              "  <thead>\n",
              "    <tr style=\"text-align: right;\">\n",
              "      <th></th>\n",
              "      <th>Number_of_vehicles_involved</th>\n",
              "      <th>Number_of_casualties</th>\n",
              "    </tr>\n",
              "  </thead>\n",
              "  <tbody>\n",
              "    <tr>\n",
              "      <th>count</th>\n",
              "      <td>524.000000</td>\n",
              "      <td>524.000000</td>\n",
              "    </tr>\n",
              "    <tr>\n",
              "      <th>mean</th>\n",
              "      <td>2.114504</td>\n",
              "      <td>1.717557</td>\n",
              "    </tr>\n",
              "    <tr>\n",
              "      <th>std</th>\n",
              "      <td>0.824029</td>\n",
              "      <td>1.123535</td>\n",
              "    </tr>\n",
              "    <tr>\n",
              "      <th>min</th>\n",
              "      <td>1.000000</td>\n",
              "      <td>1.000000</td>\n",
              "    </tr>\n",
              "    <tr>\n",
              "      <th>25%</th>\n",
              "      <td>2.000000</td>\n",
              "      <td>1.000000</td>\n",
              "    </tr>\n",
              "    <tr>\n",
              "      <th>50%</th>\n",
              "      <td>2.000000</td>\n",
              "      <td>1.000000</td>\n",
              "    </tr>\n",
              "    <tr>\n",
              "      <th>75%</th>\n",
              "      <td>2.000000</td>\n",
              "      <td>2.000000</td>\n",
              "    </tr>\n",
              "    <tr>\n",
              "      <th>max</th>\n",
              "      <td>6.000000</td>\n",
              "      <td>6.000000</td>\n",
              "    </tr>\n",
              "  </tbody>\n",
              "</table>\n",
              "</div>\n",
              "    <div class=\"colab-df-buttons\">\n",
              "\n",
              "  <div class=\"colab-df-container\">\n",
              "    <button class=\"colab-df-convert\" onclick=\"convertToInteractive('df-bceed27c-b25a-48d9-a965-0b6ae5439d63')\"\n",
              "            title=\"Convert this dataframe to an interactive table.\"\n",
              "            style=\"display:none;\">\n",
              "\n",
              "  <svg xmlns=\"http://www.w3.org/2000/svg\" height=\"24px\" viewBox=\"0 -960 960 960\">\n",
              "    <path d=\"M120-120v-720h720v720H120Zm60-500h600v-160H180v160Zm220 220h160v-160H400v160Zm0 220h160v-160H400v160ZM180-400h160v-160H180v160Zm440 0h160v-160H620v160ZM180-180h160v-160H180v160Zm440 0h160v-160H620v160Z\"/>\n",
              "  </svg>\n",
              "    </button>\n",
              "\n",
              "  <style>\n",
              "    .colab-df-container {\n",
              "      display:flex;\n",
              "      gap: 12px;\n",
              "    }\n",
              "\n",
              "    .colab-df-convert {\n",
              "      background-color: #E8F0FE;\n",
              "      border: none;\n",
              "      border-radius: 50%;\n",
              "      cursor: pointer;\n",
              "      display: none;\n",
              "      fill: #1967D2;\n",
              "      height: 32px;\n",
              "      padding: 0 0 0 0;\n",
              "      width: 32px;\n",
              "    }\n",
              "\n",
              "    .colab-df-convert:hover {\n",
              "      background-color: #E2EBFA;\n",
              "      box-shadow: 0px 1px 2px rgba(60, 64, 67, 0.3), 0px 1px 3px 1px rgba(60, 64, 67, 0.15);\n",
              "      fill: #174EA6;\n",
              "    }\n",
              "\n",
              "    .colab-df-buttons div {\n",
              "      margin-bottom: 4px;\n",
              "    }\n",
              "\n",
              "    [theme=dark] .colab-df-convert {\n",
              "      background-color: #3B4455;\n",
              "      fill: #D2E3FC;\n",
              "    }\n",
              "\n",
              "    [theme=dark] .colab-df-convert:hover {\n",
              "      background-color: #434B5C;\n",
              "      box-shadow: 0px 1px 3px 1px rgba(0, 0, 0, 0.15);\n",
              "      filter: drop-shadow(0px 1px 2px rgba(0, 0, 0, 0.3));\n",
              "      fill: #FFFFFF;\n",
              "    }\n",
              "  </style>\n",
              "\n",
              "    <script>\n",
              "      const buttonEl =\n",
              "        document.querySelector('#df-bceed27c-b25a-48d9-a965-0b6ae5439d63 button.colab-df-convert');\n",
              "      buttonEl.style.display =\n",
              "        google.colab.kernel.accessAllowed ? 'block' : 'none';\n",
              "\n",
              "      async function convertToInteractive(key) {\n",
              "        const element = document.querySelector('#df-bceed27c-b25a-48d9-a965-0b6ae5439d63');\n",
              "        const dataTable =\n",
              "          await google.colab.kernel.invokeFunction('convertToInteractive',\n",
              "                                                    [key], {});\n",
              "        if (!dataTable) return;\n",
              "\n",
              "        const docLinkHtml = 'Like what you see? Visit the ' +\n",
              "          '<a target=\"_blank\" href=https://colab.research.google.com/notebooks/data_table.ipynb>data table notebook</a>'\n",
              "          + ' to learn more about interactive tables.';\n",
              "        element.innerHTML = '';\n",
              "        dataTable['output_type'] = 'display_data';\n",
              "        await google.colab.output.renderOutput(dataTable, element);\n",
              "        const docLink = document.createElement('div');\n",
              "        docLink.innerHTML = docLinkHtml;\n",
              "        element.appendChild(docLink);\n",
              "      }\n",
              "    </script>\n",
              "  </div>\n",
              "\n",
              "\n",
              "<div id=\"df-43e97b6f-6b78-49a0-8fb4-af96c1f6418e\">\n",
              "  <button class=\"colab-df-quickchart\" onclick=\"quickchart('df-43e97b6f-6b78-49a0-8fb4-af96c1f6418e')\"\n",
              "            title=\"Suggest charts\"\n",
              "            style=\"display:none;\">\n",
              "\n",
              "<svg xmlns=\"http://www.w3.org/2000/svg\" height=\"24px\"viewBox=\"0 0 24 24\"\n",
              "     width=\"24px\">\n",
              "    <g>\n",
              "        <path d=\"M19 3H5c-1.1 0-2 .9-2 2v14c0 1.1.9 2 2 2h14c1.1 0 2-.9 2-2V5c0-1.1-.9-2-2-2zM9 17H7v-7h2v7zm4 0h-2V7h2v10zm4 0h-2v-4h2v4z\"/>\n",
              "    </g>\n",
              "</svg>\n",
              "  </button>\n",
              "\n",
              "<style>\n",
              "  .colab-df-quickchart {\n",
              "      --bg-color: #E8F0FE;\n",
              "      --fill-color: #1967D2;\n",
              "      --hover-bg-color: #E2EBFA;\n",
              "      --hover-fill-color: #174EA6;\n",
              "      --disabled-fill-color: #AAA;\n",
              "      --disabled-bg-color: #DDD;\n",
              "  }\n",
              "\n",
              "  [theme=dark] .colab-df-quickchart {\n",
              "      --bg-color: #3B4455;\n",
              "      --fill-color: #D2E3FC;\n",
              "      --hover-bg-color: #434B5C;\n",
              "      --hover-fill-color: #FFFFFF;\n",
              "      --disabled-bg-color: #3B4455;\n",
              "      --disabled-fill-color: #666;\n",
              "  }\n",
              "\n",
              "  .colab-df-quickchart {\n",
              "    background-color: var(--bg-color);\n",
              "    border: none;\n",
              "    border-radius: 50%;\n",
              "    cursor: pointer;\n",
              "    display: none;\n",
              "    fill: var(--fill-color);\n",
              "    height: 32px;\n",
              "    padding: 0;\n",
              "    width: 32px;\n",
              "  }\n",
              "\n",
              "  .colab-df-quickchart:hover {\n",
              "    background-color: var(--hover-bg-color);\n",
              "    box-shadow: 0 1px 2px rgba(60, 64, 67, 0.3), 0 1px 3px 1px rgba(60, 64, 67, 0.15);\n",
              "    fill: var(--button-hover-fill-color);\n",
              "  }\n",
              "\n",
              "  .colab-df-quickchart-complete:disabled,\n",
              "  .colab-df-quickchart-complete:disabled:hover {\n",
              "    background-color: var(--disabled-bg-color);\n",
              "    fill: var(--disabled-fill-color);\n",
              "    box-shadow: none;\n",
              "  }\n",
              "\n",
              "  .colab-df-spinner {\n",
              "    border: 2px solid var(--fill-color);\n",
              "    border-color: transparent;\n",
              "    border-bottom-color: var(--fill-color);\n",
              "    animation:\n",
              "      spin 1s steps(1) infinite;\n",
              "  }\n",
              "\n",
              "  @keyframes spin {\n",
              "    0% {\n",
              "      border-color: transparent;\n",
              "      border-bottom-color: var(--fill-color);\n",
              "      border-left-color: var(--fill-color);\n",
              "    }\n",
              "    20% {\n",
              "      border-color: transparent;\n",
              "      border-left-color: var(--fill-color);\n",
              "      border-top-color: var(--fill-color);\n",
              "    }\n",
              "    30% {\n",
              "      border-color: transparent;\n",
              "      border-left-color: var(--fill-color);\n",
              "      border-top-color: var(--fill-color);\n",
              "      border-right-color: var(--fill-color);\n",
              "    }\n",
              "    40% {\n",
              "      border-color: transparent;\n",
              "      border-right-color: var(--fill-color);\n",
              "      border-top-color: var(--fill-color);\n",
              "    }\n",
              "    60% {\n",
              "      border-color: transparent;\n",
              "      border-right-color: var(--fill-color);\n",
              "    }\n",
              "    80% {\n",
              "      border-color: transparent;\n",
              "      border-right-color: var(--fill-color);\n",
              "      border-bottom-color: var(--fill-color);\n",
              "    }\n",
              "    90% {\n",
              "      border-color: transparent;\n",
              "      border-bottom-color: var(--fill-color);\n",
              "    }\n",
              "  }\n",
              "</style>\n",
              "\n",
              "  <script>\n",
              "    async function quickchart(key) {\n",
              "      const quickchartButtonEl =\n",
              "        document.querySelector('#' + key + ' button');\n",
              "      quickchartButtonEl.disabled = true;  // To prevent multiple clicks.\n",
              "      quickchartButtonEl.classList.add('colab-df-spinner');\n",
              "      try {\n",
              "        const charts = await google.colab.kernel.invokeFunction(\n",
              "            'suggestCharts', [key], {});\n",
              "      } catch (error) {\n",
              "        console.error('Error during call to suggestCharts:', error);\n",
              "      }\n",
              "      quickchartButtonEl.classList.remove('colab-df-spinner');\n",
              "      quickchartButtonEl.classList.add('colab-df-quickchart-complete');\n",
              "    }\n",
              "    (() => {\n",
              "      let quickchartButtonEl =\n",
              "        document.querySelector('#df-43e97b6f-6b78-49a0-8fb4-af96c1f6418e button');\n",
              "      quickchartButtonEl.style.display =\n",
              "        google.colab.kernel.accessAllowed ? 'block' : 'none';\n",
              "    })();\n",
              "  </script>\n",
              "</div>\n",
              "\n",
              "    </div>\n",
              "  </div>\n"
            ],
            "application/vnd.google.colaboratory.intrinsic+json": {
              "type": "dataframe",
              "summary": "{\n  \"name\": \"df\",\n  \"rows\": 8,\n  \"fields\": [\n    {\n      \"column\": \"Number_of_vehicles_involved\",\n      \"properties\": {\n        \"dtype\": \"number\",\n        \"std\": 184.46387478195248,\n        \"min\": 0.8240293797695892,\n        \"max\": 524.0,\n        \"num_unique_values\": 6,\n        \"samples\": [\n          524.0,\n          2.114503816793893,\n          6.0\n        ],\n        \"semantic_type\": \"\",\n        \"description\": \"\"\n      }\n    },\n    {\n      \"column\": \"Number_of_casualties\",\n      \"properties\": {\n        \"dtype\": \"number\",\n        \"std\": 184.5705758686254,\n        \"min\": 1.0,\n        \"max\": 524.0,\n        \"num_unique_values\": 6,\n        \"samples\": [\n          524.0,\n          1.717557251908397,\n          6.0\n        ],\n        \"semantic_type\": \"\",\n        \"description\": \"\"\n      }\n    }\n  ]\n}"
            }
          },
          "metadata": {},
          "execution_count": 44
        }
      ]
    },
    {
      "cell_type": "code",
      "source": [
        "pd.plotting.scatter_matrix(df, figsize=(8,8), marker='o')\n",
        "plt.show()"
      ],
      "metadata": {
        "colab": {
          "base_uri": "https://localhost:8080/",
          "height": 689
        },
        "id": "Gbe3HytG-mU2",
        "outputId": "c5506104-af54-4013-e3de-5bedf7ed0069"
      },
      "execution_count": 45,
      "outputs": [
        {
          "output_type": "display_data",
          "data": {
            "text/plain": [
              "<Figure size 800x800 with 4 Axes>"
            ],
            "image/png": "[encoded data removed]"
          },
          "metadata": {}
        }
      ]
    },
    {
      "cell_type": "code",
      "source": [
        "#We check the count of null values\n",
        "df.isnull().sum()"
      ],
      "metadata": {
        "colab": {
          "base_uri": "https://localhost:8080/"
        },
        "id": "XC5pJHkIqKTp",
        "outputId": "00183071-4c62-4a05-daaf-665181ca0959"
      },
      "execution_count": 46,
      "outputs": [
        {
          "output_type": "execute_result",
          "data": {
            "text/plain": [
              "Time                            0\n",
              "Day_of_week                     0\n",
              "Age_band_of_driver             29\n",
              "Sex_of_driver                   0\n",
              "Driving_experience             40\n",
              "Type_of_vehicle                42\n",
              "Area_accident_occured           0\n",
              "Types_of_Junction               0\n",
              "Road_surface_type               0\n",
              "Light_conditions                0\n",
              "Weather_conditions              0\n",
              "Type_of_collision               0\n",
              "Number_of_vehicles_involved     0\n",
              "Number_of_casualties            0\n",
              "Accident_severity               0\n",
              "Safety Response                 0\n",
              "dtype: int64"
            ]
          },
          "metadata": {},
          "execution_count": 46
        }
      ]
    },
    {
      "cell_type": "markdown",
      "source": [
        "# **Imputing missing data**"
      ],
      "metadata": {
        "id": "khBF0PJUpmZQ"
      }
    },
    {
      "cell_type": "code",
      "source": [
        "from sklearn.impute import SimpleImputer\n",
        "#Removing empty values or cells\n",
        "imputer = SimpleImputer(strategy='most_frequent')\n",
        "X_imputed1 = pd.DataFrame(imputer.fit_transform(X), columns=X.columns)\n",
        "\n",
        "#Removing 'nan' values\n",
        "imputer2 = SimpleImputer(missing_values=np.nan, strategy='most_frequent')\n",
        "X_imputed2 = pd.DataFrame(imputer.fit_transform(X_imputed1), columns=X.columns)\n",
        "\n",
        "#Updating X\n",
        "X = X_imputed2\n",
        "print(X['Sex_of_driver'])"
      ],
      "metadata": {
        "id": "Vs9ZbKAWo3_B",
        "colab": {
          "base_uri": "https://localhost:8080/"
        },
        "outputId": "65e3289d-7146-424a-891b-a0466b0e08d3"
      },
      "execution_count": 47,
      "outputs": [
        {
          "output_type": "stream",
          "name": "stdout",
          "text": [
            "0      Male\n",
            "1      Male\n",
            "2      Male\n",
            "3      Male\n",
            "4      Male\n",
            "       ... \n",
            "519    Male\n",
            "520    Male\n",
            "521    Male\n",
            "522    Male\n",
            "523    Male\n",
            "Name: Sex_of_driver, Length: 524, dtype: object\n"
          ]
        }
      ]
    },
    {
      "cell_type": "markdown",
      "source": [
        "# **Encoding Dataset**"
      ],
      "metadata": {
        "id": "n3BsmWkNmybo"
      }
    },
    {
      "cell_type": "markdown",
      "source": [
        "**First we will encode the Independent Values(X)**"
      ],
      "metadata": {
        "id": "IloZGamSSknt"
      }
    },
    {
      "cell_type": "code",
      "source": [
        "#For columns containing binary values,  we use Label Encoder\n",
        "from sklearn.preprocessing import LabelEncoder\n",
        "le = LabelEncoder()\n",
        "X_le1 = le.fit_transform(X['Sex_of_driver'])\n",
        "print(X_le1)"
      ],
      "metadata": {
        "colab": {
          "base_uri": "https://localhost:8080/"
        },
        "id": "4dQonj_pCl3x",
        "outputId": "2502cafc-9fc5-45fa-8677-9d6a6795a33f"
      },
      "execution_count": 48,
      "outputs": [
        {
          "output_type": "stream",
          "name": "stdout",
          "text": [
            "[1 1 1 1 1 1 1 1 1 1 1 1 1 1 1 0 1 1 1 1 1 1 1 1 1 1 1 1 1 1 1 1 1 1 1 1 1\n",
            " 1 1 1 1 1 1 1 1 1 1 1 1 1 1 1 1 1 1 1 1 1 1 1 1 1 1 1 0 1 1 1 1 1 1 1 1 1\n",
            " 1 1 1 1 1 1 1 1 1 1 1 1 1 1 1 1 1 1 1 1 1 1 1 1 1 1 1 1 1 1 1 1 1 1 1 1 1\n",
            " 1 1 1 1 1 1 1 0 1 1 1 1 1 1 1 1 1 1 1 1 1 1 1 1 1 1 1 1 1 1 1 1 1 1 1 1 1\n",
            " 1 1 1 1 1 1 1 0 1 1 1 1 1 1 1 1 1 1 1 1 1 1 1 1 1 1 1 1 1 1 1 1 1 1 1 1 1\n",
            " 1 0 1 1 1 1 1 1 1 1 1 1 1 0 1 0 1 1 1 1 1 1 1 1 1 1 0 1 1 1 1 1 1 1 1 1 1\n",
            " 1 1 1 1 0 0 0 0 0 1 1 1 1 1 1 1 0 1 1 1 1 0 0 0 1 1 1 1 1 1 1 1 1 1 1 1 1\n",
            " 1 1 1 1 1 1 1 1 1 1 1 1 1 1 1 1 1 1 1 1 1 1 1 1 1 1 1 1 1 1 1 1 1 1 1 1 1\n",
            " 1 1 1 1 1 0 1 1 1 1 1 0 1 1 1 1 1 1 1 1 1 1 1 1 1 1 1 1 1 1 1 0 0 1 1 1 1\n",
            " 1 1 1 1 1 1 1 1 1 1 1 1 1 1 1 1 1 1 1 1 0 1 1 1 1 1 1 1 1 1 0 0 1 1 1 1 1\n",
            " 1 1 1 1 1 1 1 1 1 1 1 1 1 1 1 1 1 1 1 1 1 1 1 1 1 1 1 1 1 1 1 1 1 1 1 1 1\n",
            " 1 1 1 1 1 1 1 1 1 1 1 1 1 1 1 1 1 0 1 1 1 1 0 1 1 1 1 1 1 1 1 1 1 1 1 1 1\n",
            " 1 1 1 1 1 1 1 1 0 1 1 1 1 1 1 1 1 1 1 1 1 1 1 1 0 1 1 1 1 1 1 1 0 1 1 1 1\n",
            " 1 1 1 1 0 1 1 1 1 1 1 1 1 1 1 1 0 1 1 0 0 1 1 1 0 0 1 1 1 1 1 1 1 1 1 1 1\n",
            " 1 1 1 1 1 1]\n"
          ]
        }
      ]
    },
    {
      "cell_type": "code",
      "source": [
        "#For columns containing non-binary values, we use OneHotEncoder\n",
        "from sklearn.compose import ColumnTransformer\n",
        "from sklearn.preprocessing import OneHotEncoder\n",
        "#We drop the Sex_of_driver column since we already encoded it\n",
        "X_ohe = X.drop('Sex_of_driver', axis=1)\n",
        "\n",
        "#We separately define the columns that are to be encoded\n",
        "ColumnsToEncode = ['Day_of_week','Age_band_of_driver','Driving_experience','Type_of_vehicle','Area_accident_occured','Types_of_Junction','Road_surface_type','Light_conditions','Type_of_collision','Weather_conditions','Accident_severity']\n",
        "\n",
        "#We define the transformation\n",
        "transformers = [('encoder', OneHotEncoder(), ColumnsToEncode)]\n",
        "ct = ColumnTransformer(transformers=transformers, remainder='passthrough')\n",
        "\n",
        "#We fit the transformation\n",
        "X_encoded = ct.fit_transform(X_ohe)\n",
        "print(X_encoded.shape)\n",
        "print(type(X_encoded))\n",
        "#The X_encoded is a sparse matrix in Compressed Sparse Row(CSR) format\n"
      ],
      "metadata": {
        "id": "OOKe_rerlg2R",
        "colab": {
          "base_uri": "https://localhost:8080/"
        },
        "outputId": "215c1a0f-6e76-48d9-cbaf-97ed0e6acc05"
      },
      "execution_count": 49,
      "outputs": [
        {
          "output_type": "stream",
          "name": "stdout",
          "text": [
            "(524, 72)\n",
            "<class 'scipy.sparse._csr.csr_matrix'>\n"
          ]
        }
      ]
    },
    {
      "cell_type": "code",
      "source": [
        "#Copying X_encoded to form new encoded dataframe\n",
        "X = pd.DataFrame(X_encoded.toarray())\n",
        "\n",
        "#Adding the separately encoded column Sex_of_driver to the encoded dataframe\n",
        "X[X.columns[-1] + 1] = X_le1\n",
        "print(X)"
      ],
      "metadata": {
        "colab": {
          "base_uri": "https://localhost:8080/"
        },
        "id": "zZpy3P10_tWP",
        "outputId": "debfaaaa-c661-496d-9d09-e1202ed464cb"
      },
      "execution_count": 50,
      "outputs": [
        {
          "output_type": "stream",
          "name": "stdout",
          "text": [
            "      0    1    2    3    4    5    6    7    8    9   ...   63   64   65  \\\n",
            "0    0.0  1.0  0.0  0.0  0.0  0.0  0.0  1.0  0.0  0.0  ...  0.0  0.0  0.0   \n",
            "1    0.0  1.0  0.0  0.0  0.0  0.0  0.0  0.0  1.0  0.0  ...  0.0  0.0  0.0   \n",
            "2    0.0  1.0  0.0  0.0  0.0  0.0  0.0  1.0  0.0  0.0  ...  0.0  0.0  0.0   \n",
            "3    0.0  0.0  0.0  1.0  0.0  0.0  0.0  1.0  0.0  0.0  ...  0.0  0.0  0.0   \n",
            "4    0.0  0.0  0.0  1.0  0.0  0.0  0.0  1.0  0.0  0.0  ...  0.0  0.0  0.0   \n",
            "..   ...  ...  ...  ...  ...  ...  ...  ...  ...  ...  ...  ...  ...  ...   \n",
            "519  0.0  0.0  0.0  0.0  0.0  0.0  1.0  1.0  0.0  0.0  ...  0.0  0.0  0.0   \n",
            "520  1.0  0.0  0.0  0.0  0.0  0.0  0.0  0.0  0.0  1.0  ...  0.0  0.0  0.0   \n",
            "521  1.0  0.0  0.0  0.0  0.0  0.0  0.0  0.0  1.0  0.0  ...  0.0  0.0  0.0   \n",
            "522  1.0  0.0  0.0  0.0  0.0  0.0  0.0  0.0  1.0  0.0  ...  0.0  0.0  0.0   \n",
            "523  0.0  0.0  0.0  0.0  1.0  0.0  0.0  0.0  1.0  0.0  ...  0.0  0.0  0.0   \n",
            "\n",
            "      66   67   68   69   70   71  72  \n",
            "0    0.0  0.0  0.0  1.0  2.0  2.0   1  \n",
            "1    0.0  0.0  0.0  1.0  2.0  2.0   1  \n",
            "2    0.0  0.0  1.0  0.0  2.0  2.0   1  \n",
            "3    0.0  0.0  0.0  1.0  2.0  2.0   1  \n",
            "4    0.0  0.0  0.0  1.0  2.0  2.0   1  \n",
            "..   ...  ...  ...  ...  ...  ...  ..  \n",
            "519  0.0  0.0  0.0  1.0  2.0  2.0   1  \n",
            "520  0.0  0.0  0.0  1.0  2.0  2.0   1  \n",
            "521  0.0  0.0  0.0  1.0  2.0  2.0   1  \n",
            "522  0.0  0.0  0.0  1.0  2.0  2.0   1  \n",
            "523  0.0  1.0  0.0  0.0  2.0  1.0   1  \n",
            "\n",
            "[524 rows x 73 columns]\n"
          ]
        }
      ]
    },
    {
      "cell_type": "code",
      "source": [
        "print(type(X))"
      ],
      "metadata": {
        "colab": {
          "base_uri": "https://localhost:8080/"
        },
        "id": "twbwDpu_G40r",
        "outputId": "ba1df6ac-1aac-408c-8ecc-28a547ca016d"
      },
      "execution_count": 51,
      "outputs": [
        {
          "output_type": "stream",
          "name": "stdout",
          "text": [
            "<class 'pandas.core.frame.DataFrame'>\n"
          ]
        }
      ]
    },
    {
      "cell_type": "markdown",
      "source": [
        "**Now we will encode the dependant variable(y)**"
      ],
      "metadata": {
        "id": "2ufN17z4JQlz"
      }
    },
    {
      "cell_type": "code",
      "source": [
        "#Encoding Dependent variable\n",
        "encoded_y = pd.get_dummies(y)\n",
        "#Dummies converts each unique value into a column which consists on True False values\n",
        "\n",
        "#We convert values to binary 0 or 1\n",
        "y = encoded_y.astype(int)\n",
        "print(y)"
      ],
      "metadata": {
        "id": "qNE-rhaCoSpV",
        "colab": {
          "base_uri": "https://localhost:8080/"
        },
        "outputId": "46ed03a1-c472-4670-fc69-ff58d5e1dd14"
      },
      "execution_count": 52,
      "outputs": [
        {
          "output_type": "stream",
          "name": "stdout",
          "text": [
            "     High Response  Low Response  Medium Response\n",
            "0                0             1                0\n",
            "1                0             1                0\n",
            "2                0             1                0\n",
            "3                0             1                0\n",
            "4                0             1                0\n",
            "..             ...           ...              ...\n",
            "519              0             0                1\n",
            "520              0             0                1\n",
            "521              0             0                1\n",
            "522              0             0                1\n",
            "523              0             1                0\n",
            "\n",
            "[524 rows x 3 columns]\n"
          ]
        }
      ]
    },
    {
      "cell_type": "code",
      "source": [
        "print(type(y))"
      ],
      "metadata": {
        "colab": {
          "base_uri": "https://localhost:8080/"
        },
        "id": "NbNEAomoOlax",
        "outputId": "f8aee235-ad2e-4e35-c844-6a724646dbb0"
      },
      "execution_count": 53,
      "outputs": [
        {
          "output_type": "stream",
          "name": "stdout",
          "text": [
            "<class 'pandas.core.frame.DataFrame'>\n"
          ]
        }
      ]
    },
    {
      "cell_type": "code",
      "source": [
        "#We check the correlation of the values\n",
        "corr = X.corr()\n",
        "plt.imshow(corr, cmap=\"Pastel1\")\n",
        "\n",
        "plt.colorbar()\n",
        "\n",
        "variables = []\n",
        "for i in corr.columns:\n",
        "    variables.append(i)\n",
        "\n",
        "plt.xticks(range(len(corr)), variables, rotation=40)\n",
        "plt.yticks(range(len(corr)), variables)\n",
        "\n",
        "plt.show()"
      ],
      "metadata": {
        "colab": {
          "base_uri": "https://localhost:8080/",
          "height": 443
        },
        "id": "XaKB-0QOqVrG",
        "outputId": "b135cab2-7088-4d28-8a76-8896a7ad8903"
      },
      "execution_count": 54,
      "outputs": [
        {
          "output_type": "display_data",
          "data": {
            "text/plain": [
              "<Figure size 640x480 with 2 Axes>"
            ],
            "image/png": "[encoded data removed]"
          },
          "metadata": {}
        }
      ]
    },
    {
      "cell_type": "markdown",
      "source": [
        "# **Splitting the dataset**"
      ],
      "metadata": {
        "id": "Rg5_-Kn6PbXX"
      }
    },
    {
      "cell_type": "code",
      "source": [
        "from sklearn.model_selection import train_test_split\n",
        "X_train,X_test,y_train,y_test = train_test_split(X,y,test_size = 0.2,random_state=1)"
      ],
      "metadata": {
        "id": "qxOxcOmFPsKB"
      },
      "execution_count": 55,
      "outputs": []
    },
    {
      "cell_type": "markdown",
      "source": [
        "# **Model Training**"
      ],
      "metadata": {
        "id": "x7bClYZgQh_n"
      }
    },
    {
      "cell_type": "markdown",
      "source": [
        "We will now train classification models and apply our training data to them"
      ],
      "metadata": {
        "id": "0AUiZWd-Xrcb"
      }
    },
    {
      "cell_type": "code",
      "source": [
        "#Random Forest Classifier\n",
        "from sklearn.ensemble import RandomForestClassifier\n",
        "RandomForest_model = RandomForestClassifier(n_estimators=100, random_state=42)\n",
        "RandomForest_model.fit(X_train,y_train)\n",
        "RandomForest_pred = RandomForest_model.predict(X_test)\n"
      ],
      "metadata": {
        "id": "XXyuF0AqQhif"
      },
      "execution_count": 56,
      "outputs": []
    },
    {
      "cell_type": "code",
      "source": [
        "#XGBoost\n",
        "import xgboost as xgb\n",
        "XGBoost_model = xgb.XGBClassifier(random_state=42)\n",
        "XGBoost_model.fit(X_train,y_train)\n",
        "XGBoost_pred = XGBoost_model.predict(X_test)"
      ],
      "metadata": {
        "id": "vfwez_WRgy8d"
      },
      "execution_count": 57,
      "outputs": []
    },
    {
      "cell_type": "code",
      "source": [
        "#K-Nearest Neighbors(KNN)\n",
        "from sklearn.neighbors import KNeighborsClassifier\n",
        "KNN_model = KNeighborsClassifier(n_neighbors=5)\n",
        "KNN_model.fit(X_train,y_train)\n",
        "KNN_pred = KNN_model.predict(X_test)"
      ],
      "metadata": {
        "id": "wRzvcxGpfTMP"
      },
      "execution_count": 58,
      "outputs": []
    },
    {
      "cell_type": "markdown",
      "source": [
        "# **Model Evaluation**"
      ],
      "metadata": {
        "id": "Ha43pnySkP8C"
      }
    },
    {
      "cell_type": "code",
      "source": [
        "#Accuracy of Random Forest Classifier\n",
        "from sklearn.metrics import accuracy_score\n",
        "accuracy = accuracy_score(y_test, RandomForest_pred)\n",
        "print(\"Accuracy:\", accuracy)"
      ],
      "metadata": {
        "colab": {
          "base_uri": "https://localhost:8080/"
        },
        "id": "zI-7rshgkUyP",
        "outputId": "20cc52d1-7efe-49c5-b7c9-ad1714368361"
      },
      "execution_count": 59,
      "outputs": [
        {
          "output_type": "stream",
          "name": "stdout",
          "text": [
            "Accuracy: 0.5047619047619047\n"
          ]
        }
      ]
    },
    {
      "cell_type": "code",
      "source": [
        "#Accuracy of XGBoost\n",
        "from sklearn.metrics import accuracy_score\n",
        "accuracy1 = accuracy_score(y_test, XGBoost_pred)\n",
        "print(\"Accuracy:\", accuracy1)"
      ],
      "metadata": {
        "colab": {
          "base_uri": "https://localhost:8080/"
        },
        "id": "d3FWzbvvlZLZ",
        "outputId": "bae2fb32-5559-451c-ece0-0457adba6293"
      },
      "execution_count": 60,
      "outputs": [
        {
          "output_type": "stream",
          "name": "stdout",
          "text": [
            "Accuracy: 0.45714285714285713\n"
          ]
        }
      ]
    },
    {
      "cell_type": "code",
      "source": [
        "#Accuracy of KNN\n",
        "from sklearn.metrics import accuracy_score\n",
        "accuracy2 = accuracy_score(y_test, KNN_pred)\n",
        "print(\"Accuracy:\", accuracy2)"
      ],
      "metadata": {
        "colab": {
          "base_uri": "https://localhost:8080/"
        },
        "id": "u50ZQthglZi5",
        "outputId": "62bd6a89-c20b-40de-e683-a45da11a2986"
      },
      "execution_count": 61,
      "outputs": [
        {
          "output_type": "stream",
          "name": "stdout",
          "text": [
            "Accuracy: 0.5142857142857142\n"
          ]
        }
      ]
    }
  ]
}